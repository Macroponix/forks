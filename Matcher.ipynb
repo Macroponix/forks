{
 "cells": [
  {
   "cell_type": "code",
   "execution_count": 3,
   "metadata": {},
   "outputs": [],
   "source": [
    "from sklearn.feature_extraction.text import CountVectorizer\n",
    "from sklearn.metrics.pairwise import cosine_similarity\n",
    "import re"
   ]
  },
  {
   "cell_type": "code",
   "execution_count": 4,
   "metadata": {},
   "outputs": [],
   "source": [
    "def get_bigrams(word, bow='<', eow='>'):\n",
    "    \n",
    "    bigramlist = set()\n",
    "    #print(word)\n",
    "    charlist = [ch for ch in word if ch.isalpha()]\n",
    "    #print(len(charlist))\n",
    "    \n",
    "    if len(charlist)==0:\n",
    "        return str([bow+eow])\n",
    "        \n",
    "    bigramlist.add(bow+charlist[0])\n",
    "    for i in range (len(charlist)-1):\n",
    "        if charlist[i].isalpha():\n",
    "            bigram = charlist[i] + charlist[i+1]\n",
    "            bigramlist.add(bigram);\n",
    "    bigramlist.add(charlist[len(charlist)-1] + eow)\n",
    "    return str(list(bigramlist))"
   ]
  },
  {
   "cell_type": "code",
   "execution_count": 5,
   "metadata": {},
   "outputs": [],
   "source": [
    "def matcher(name, names):\n",
    "    \n",
    "   \n",
    "    names_1 = names.copy()\n",
    "    names_1.append(name)\n",
    "    \n",
    "    bigram_match_names=[]\n",
    "    for name in names_1:\n",
    "        bigram_match_names.append(get_bigrams(name))\n",
    "        \n",
    "    vector_match_names=[]\n",
    "    CV = CountVectorizer()\n",
    "    X = CV.fit_transform(bigram_match_names)\n",
    "    for i in X:\n",
    "        vector_match_names.append(i.toarray())\n",
    "    \n",
    "    vectors=[x[0] for x in vector_match_names]\n",
    "    vectors_1 = vectors.copy()\n",
    "    \n",
    "    x = vectors_1.pop(names_1.index(name))\n",
    "    names_1.pop(names_1.index(name))\n",
    "    \n",
    "    res=cosine_similarity(x.reshape(1, -1), vectors_1)[0]\n",
    "    name_sim_dict=dict(zip(names_1,res))\n",
    "    list_d = list(name_sim_dict.items())\n",
    "    list_d.sort(key=lambda i: i[1])\n",
    "\n",
    "    list_d.sort(key=lambda i: i[1],reverse=True)\n",
    "    print(\"Most similar names:\")\n",
    "    for i in range (5):\n",
    "        print(list_d[i][0], ':', list_d[i][1])\n",
    "        \n",
    "    return \n",
    "    \n",
    "    "
   ]
  },
  {
   "cell_type": "code",
   "execution_count": 7,
   "metadata": {},
   "outputs": [
    {
     "name": "stdout",
     "output_type": "stream",
     "text": [
      "\n",
      "Most similar names:\n",
      "cfsdfa : 0.6\n",
      "bfdf : 0.25819888974716115\n",
      "fadsfa : 0.22360679774997896\n"
     ]
    },
    {
     "ename": "IndexError",
     "evalue": "list index out of range",
     "output_type": "error",
     "traceback": [
      "\u001b[0;31m---------------------------------------------------------------------------\u001b[0m",
      "\u001b[0;31mIndexError\u001b[0m                                Traceback (most recent call last)",
      "\u001b[0;32m<ipython-input-7-b406865af4de>\u001b[0m in \u001b[0;36m<module>\u001b[0;34m\u001b[0m\n\u001b[0;32m----> 1\u001b[0;31m \u001b[0mmatcher\u001b[0m\u001b[0;34m(\u001b[0m\u001b[0;34m'aasdfa'\u001b[0m\u001b[0;34m,\u001b[0m \u001b[0;34m[\u001b[0m\u001b[0;34m'fadsfa'\u001b[0m\u001b[0;34m,\u001b[0m \u001b[0;34m'bfdf'\u001b[0m\u001b[0;34m,\u001b[0m \u001b[0;34m'cfsdfa'\u001b[0m\u001b[0;34m]\u001b[0m\u001b[0;34m)\u001b[0m\u001b[0;34m\u001b[0m\u001b[0;34m\u001b[0m\u001b[0m\n\u001b[0m",
      "\u001b[0;32m<ipython-input-5-839cd1d8cf8f>\u001b[0m in \u001b[0;36mmatcher\u001b[0;34m(name, names)\u001b[0m\n\u001b[1;32m     29\u001b[0m     \u001b[0mprint\u001b[0m\u001b[0;34m(\u001b[0m\u001b[0;34m\"\\nMost similar names:\"\u001b[0m\u001b[0;34m)\u001b[0m\u001b[0;34m\u001b[0m\u001b[0;34m\u001b[0m\u001b[0m\n\u001b[1;32m     30\u001b[0m     \u001b[0;32mfor\u001b[0m \u001b[0mi\u001b[0m \u001b[0;32min\u001b[0m \u001b[0mrange\u001b[0m \u001b[0;34m(\u001b[0m\u001b[0;36m5\u001b[0m\u001b[0;34m)\u001b[0m\u001b[0;34m:\u001b[0m\u001b[0;34m\u001b[0m\u001b[0;34m\u001b[0m\u001b[0m\n\u001b[0;32m---> 31\u001b[0;31m         \u001b[0mprint\u001b[0m\u001b[0;34m(\u001b[0m\u001b[0mlist_d\u001b[0m\u001b[0;34m[\u001b[0m\u001b[0mi\u001b[0m\u001b[0;34m]\u001b[0m\u001b[0;34m[\u001b[0m\u001b[0;36m0\u001b[0m\u001b[0;34m]\u001b[0m\u001b[0;34m,\u001b[0m \u001b[0;34m':'\u001b[0m\u001b[0;34m,\u001b[0m \u001b[0mlist_d\u001b[0m\u001b[0;34m[\u001b[0m\u001b[0mi\u001b[0m\u001b[0;34m]\u001b[0m\u001b[0;34m[\u001b[0m\u001b[0;36m1\u001b[0m\u001b[0;34m]\u001b[0m\u001b[0;34m)\u001b[0m\u001b[0;34m\u001b[0m\u001b[0;34m\u001b[0m\u001b[0m\n\u001b[0m\u001b[1;32m     32\u001b[0m \u001b[0;34m\u001b[0m\u001b[0m\n\u001b[1;32m     33\u001b[0m \u001b[0;34m\u001b[0m\u001b[0m\n",
      "\u001b[0;31mIndexError\u001b[0m: list index out of range"
     ]
    }
   ],
   "source": [
    "matcher('aasdfa', ['fadsfa', 'bfdf', 'cfsdfa'])"
   ]
  },
  {
   "cell_type": "code",
   "execution_count": null,
   "metadata": {},
   "outputs": [],
   "source": []
  }
 ],
 "metadata": {
  "kernelspec": {
   "display_name": "Python 3",
   "language": "python",
   "name": "python3"
  },
  "language_info": {
   "codemirror_mode": {
    "name": "ipython",
    "version": 3
   },
   "file_extension": ".py",
   "mimetype": "text/x-python",
   "name": "python",
   "nbconvert_exporter": "python",
   "pygments_lexer": "ipython3",
   "version": "3.7.6"
  }
 },
 "nbformat": 4,
 "nbformat_minor": 4
}
